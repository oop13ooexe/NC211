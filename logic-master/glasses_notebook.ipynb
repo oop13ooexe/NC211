{
 "cells": [
  {
   "cell_type": "code",
   "execution_count": 1,
   "metadata": {},
   "outputs": [],
   "source": [
    "from logic import *\n",
    "import termcolor"
   ]
  },
  {
   "cell_type": "code",
   "execution_count": 2,
   "metadata": {},
   "outputs": [],
   "source": [
    "onKitchenTable = Symbol(\"My glasses are on the kitchen table.\")\n",
    "sawAtBreakfast = Symbol(\"I saw my glasses at breakfast.\")\n",
    "readNewsInLivingRoom = Symbol(\"I was reading the newspaper in the living room\")\n",
    "readNewsInKitchen = Symbol(\"I was reading the newspaper in the kitchen.\")\n",
    "onCoffeeTable = Symbol(\"My glasses are on the coffee table.\")\n",
    "readBookInBed = Symbol(\"I was reading my book in bed.\")\n",
    "onBedTable = Symbol(\"My glasses are on the bed table.\")"
   ]
  },
  {
   "cell_type": "code",
   "execution_count": 3,
   "metadata": {},
   "outputs": [],
   "source": [
    "knowledge = And(\n",
    "    Implication(onKitchenTable, sawAtBreakfast),\n",
    "    Or(readNewsInLivingRoom, readNewsInKitchen),\n",
    "    Implication(readNewsInLivingRoom, onCoffeeTable),\n",
    "    Not(sawAtBreakfast),\n",
    "    Implication(readBookInBed, onBedTable),\n",
    "    Implication(readNewsInKitchen, onKitchenTable)\n",
    ")"
   ]
  },
  {
   "cell_type": "code",
   "execution_count": 4,
   "metadata": {},
   "outputs": [],
   "source": [
    "symbols = [onBedTable, onCoffeeTable, onKitchenTable]"
   ]
  },
  {
   "cell_type": "code",
   "execution_count": 5,
   "metadata": {},
   "outputs": [],
   "source": [
    "def check_knowledge(knowledge):\n",
    "    for s in symbols:\n",
    "        if model_check(knowledge, s):\n",
    "            termcolor.cprint(f\"{s}\", \"green\")\n",
    "\n"
   ]
  },
  {
   "cell_type": "code",
   "execution_count": 6,
   "metadata": {},
   "outputs": [
    {
     "output_type": "stream",
     "name": "stdout",
     "text": [
      "\u001b[32mMy glasses are on the coffee table.\u001b[0m\n"
     ]
    }
   ],
   "source": [
    "check_knowledge(knowledge)"
   ]
  },
  {
   "cell_type": "code",
   "execution_count": null,
   "metadata": {},
   "outputs": [],
   "source": []
  }
 ],
 "metadata": {
  "kernelspec": {
   "name": "python392jvsc74a57bd096750c74ef0c38fd084e29941a35dc652ffd434f2437d71b86eff7eb3a9a6e94",
   "display_name": "Python 3.9.2 64-bit ('Python39')"
  },
  "metadata": {
   "interpreter": {
    "hash": "96750c74ef0c38fd084e29941a35dc652ffd434f2437d71b86eff7eb3a9a6e94"
   }
  }
 },
 "nbformat": 4,
 "nbformat_minor": 2
}