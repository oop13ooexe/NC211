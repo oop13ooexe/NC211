{
 "metadata": {
  "language_info": {
   "codemirror_mode": {
    "name": "ipython",
    "version": 3
   },
   "file_extension": ".py",
   "mimetype": "text/x-python",
   "name": "python",
   "nbconvert_exporter": "python",
   "pygments_lexer": "ipython3",
   "version": "3.6.10-final"
  },
  "orig_nbformat": 2,
  "kernelspec": {
   "name": "python3",
   "display_name": "Python 3.6.10 64-bit ('fl': conda)",
   "metadata": {
    "interpreter": {
     "hash": "06677ab4edfceaf619a3d4e782e645ec542c89cf843cd832014eb96aedcc41a2"
    }
   }
  }
 },
 "nbformat": 4,
 "nbformat_minor": 2,
 "cells": [
  {
   "cell_type": "code",
   "execution_count": 1,
   "metadata": {},
   "outputs": [],
   "source": [
    "from logic import *\n",
    "\n",
    "rain = Symbol(\"It rained.\")\n",
    "visitedHagrid = Symbol(\"Harry visited Hagrid\")\n",
    "visitedDumbledore = Symbol(\"Harry visited Dumbledore\")"
   ]
  },
  {
   "cell_type": "code",
   "execution_count": 2,
   "metadata": {},
   "outputs": [],
   "source": [
    "knowledge = And(\n",
    "    Implication(Not(rain), visitedHagrid),\n",
    "    Or(visitedHagrid, visitedDumbledore),\n",
    "    Not(And(visitedHagrid, visitedDumbledore)),\n",
    "    visitedDumbledore\n",
    ")"
   ]
  },
  {
   "cell_type": "code",
   "execution_count": 3,
   "metadata": {},
   "outputs": [
    {
     "output_type": "stream",
     "name": "stdout",
     "text": [
      "True\n"
     ]
    }
   ],
   "source": [
    "wasRained = model_check(knowledge, rain)\n",
    "print(wasRained)"
   ]
  },
  {
   "cell_type": "code",
   "execution_count": null,
   "metadata": {},
   "outputs": [],
   "source": []
  }
 ]
}