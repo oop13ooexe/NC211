{
 "metadata": {
  "language_info": {
   "codemirror_mode": {
    "name": "ipython",
    "version": 3
   },
   "file_extension": ".py",
   "mimetype": "text/x-python",
   "name": "python",
   "nbconvert_exporter": "python",
   "pygments_lexer": "ipython3",
   "version": "3.9.2"
  },
  "orig_nbformat": 2,
  "kernelspec": {
   "name": "python392jvsc74a57bd096750c74ef0c38fd084e29941a35dc652ffd434f2437d71b86eff7eb3a9a6e94",
   "display_name": "Python 3.9.2 64-bit ('Python39')"
  },
  "metadata": {
   "interpreter": {
    "hash": "96750c74ef0c38fd084e29941a35dc652ffd434f2437d71b86eff7eb3a9a6e94"
   }
  }
 },
 "nbformat": 4,
 "nbformat_minor": 2,
 "cells": [
  {
   "cell_type": "code",
   "execution_count": 27,
   "metadata": {},
   "outputs": [],
   "source": [
    "from logic import *\n",
    "import termcolor\n"
   ]
  },
  {
   "cell_type": "code",
   "execution_count": 28,
   "metadata": {},
   "outputs": [],
   "source": [
    "numberFormatException = Symbol (\"ถ้าโปรแกรมแสดงข้อความ 'Number Format Exception' \")\n",
    "RandomError = Symbol (\"โปรแกรมมีข้อผิดพลาดในคำสั่ง Random r = new Random(Double.parseDouble(x))\")\n",
    "DividedbyZero = Symbol (\"ถ้าโปรแกรมไม่แสดงข้อความ “Divided by zero” \")\n",
    "doubley = Symbol (\"แล้วโปรแกรมไม่มีข้อผิดพลาดในคำสั่ง double y = a / b\")\n",
    "SegmentationFault = Symbol (\"ถ้าโปรแกรมไม่แสดงข้อความ 'Segmentation Fault' \")\n",
    "LowMemory = Symbol (\"โปรแกรมไม่แสดงข้อความ “Low Memory” \")\n",
    "SegmentationFault = Symbol (\"โปรแกรมไม่แสดงข้อความ “Segmentation Fault” \")\n",
    "Objecto = Symbol (\"โปรแกรมไม่มีข้อผิดพลาดในคำสั่ง Object o = new Object()\")"
   ]
  },
  {
   "cell_type": "code",
   "execution_count": 29,
   "metadata": {},
   "outputs": [],
   "source": [
    "knowledge = And(\n",
    "    Implication(numberFormatException, RandomError),\n",
    "    Implication(DividedbyZero, doubley),\n",
    "    Implication(SegmentationFault, RandomError),\n",
    "   \n",
    ")"
   ]
  },
  {
   "cell_type": "code",
   "execution_count": 30,
   "metadata": {},
   "outputs": [],
   "source": [
    "symbols = [numberFormatException, DividedbyZero,SegmentationFault]"
   ]
  },
  {
   "cell_type": "code",
   "execution_count": 31,
   "metadata": {},
   "outputs": [],
   "source": [
    "def check_knowledge(knowledge):\n",
    "    for s in symbols:\n",
    "        if model_check(knowledge, s):\n",
    "            termcolor.cprint(f\"{s}\", \"green\")\n"
   ]
  },
  {
   "cell_type": "code",
   "execution_count": null,
   "metadata": {},
   "outputs": [],
   "source": []
  }
 ]
}